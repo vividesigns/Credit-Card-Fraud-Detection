{
  "nbformat": 4,
  "nbformat_minor": 0,
  "metadata": {
    "colab": {
      "name": "CreditCardFraudDetection.ipynb",
      "provenance": [],
      "authorship_tag": "ABX9TyOfh8BuN16lylAupJO6RXdC",
      "include_colab_link": true
    },
    "kernelspec": {
      "name": "python3",
      "display_name": "Python 3"
    }
  },
  "cells": [
    {
      "cell_type": "markdown",
      "metadata": {
        "id": "view-in-github",
        "colab_type": "text"
      },
      "source": [
        "<a href=\"https://colab.research.google.com/github/vividesigns/Credit-Card-Fraud-Detection/blob/main/CreditCardFraudDetection.ipynb\" target=\"_parent\"><img src=\"https://colab.research.google.com/assets/colab-badge.svg\" alt=\"Open In Colab\"/></a>"
      ]
    },
    {
      "cell_type": "markdown",
      "metadata": {
        "id": "W90YuV9abebK"
      },
      "source": [
        "# **Credit Card Fraud Detection**"
      ]
    },
    {
      "cell_type": "markdown",
      "metadata": {
        "id": "1o2F33Z8bosm"
      },
      "source": [
        "* Anonymized credit card transactions labeled as fraudulent or genuine\r\n",
        "* Data can be downloaded from [kaggle](https://www.kaggle.com/mlg-ulb/creditcardfraud?select=creditcard.csv)\r\n",
        "* The datasets contains transactions made by credit cards in September 2013 by european cardholders.\r\n",
        "* This dataset presents transactions that occurred in two days, where we have:\r\n",
        "  492 frauds out of 284,807 transactions. \r\n",
        "* The dataset is highly unbalanced, the positive class (frauds) account for 0.172% of all transactions.\r\n",
        "* It contains only numerical input variables which are the result of a PCA transformation. \r\n",
        "> Unfortunately, due to confidentiality issues, we cannot provide the original features and more background information about the data. \r\n",
        "> Features V1, V2, … V28 are the principal components obtained with PCA\r\n",
        "* The only features which have not been transformed with PCA are 'Time' and 'Amount'. \r\n",
        "* Feature _'Time'_ contains the seconds elapsed between each transaction and the first transaction in the dataset. \r\n",
        "* The feature _'Amount'_ is the transaction Amount, this feature can be used for example-dependant cost-senstive learning. \r\n",
        "* Feature _'Class'_ is the response variable and it takes value 1 in case of fraud and 0 otherwise."
      ]
    },
    {
      "cell_type": "code",
      "metadata": {
        "id": "8rcqc_ngbhyO"
      },
      "source": [
        ""
      ],
      "execution_count": null,
      "outputs": []
    }
  ]
}